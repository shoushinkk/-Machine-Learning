{
  "nbformat": 4,
  "nbformat_minor": 0,
  "metadata": {
    "colab": {
      "provenance": [],
      "authorship_tag": "ABX9TyP5dguvXU6sdibzf87UfTIf",
      "include_colab_link": true
    },
    "kernelspec": {
      "name": "python3",
      "display_name": "Python 3"
    },
    "language_info": {
      "name": "python"
    }
  },
  "cells": [
    {
      "cell_type": "markdown",
      "metadata": {
        "id": "view-in-github",
        "colab_type": "text"
      },
      "source": [
        "<a href=\"https://colab.research.google.com/github/shoushinkk/-Machine-Learning/blob/main/%D0%9F%D1%80%D0%BE%D0%BA%D0%BE%D0%BF%D0%B5%D0%BD%D0%BA%D0%BE%D0%9A_%D0%9F%D0%A08.ipynb\" target=\"_parent\"><img src=\"https://colab.research.google.com/assets/colab-badge.svg\" alt=\"Open In Colab\"/></a>"
      ]
    },
    {
      "cell_type": "code",
      "execution_count": 1,
      "metadata": {
        "colab": {
          "base_uri": "https://localhost:8080/"
        },
        "id": "y8Q5CVb7cTL6",
        "outputId": "02cf2961-bf54-46a1-af4f-6571c94aa59f"
      },
      "outputs": [
        {
          "output_type": "stream",
          "name": "stdout",
          "text": [
            "Collecting scikit-surprise\n",
            "  Downloading scikit-surprise-1.1.3.tar.gz (771 kB)\n",
            "\u001b[2K     \u001b[90m━━━━━━━━━━━━━━━━━━━━━━━━━━━━━━━━━━━━━━━━\u001b[0m \u001b[32m772.0/772.0 kB\u001b[0m \u001b[31m9.4 MB/s\u001b[0m eta \u001b[36m0:00:00\u001b[0m\n",
            "\u001b[?25h  Preparing metadata (setup.py) ... \u001b[?25l\u001b[?25hdone\n",
            "Requirement already satisfied: joblib>=1.0.0 in /usr/local/lib/python3.10/dist-packages (from scikit-surprise) (1.3.2)\n",
            "Requirement already satisfied: numpy>=1.17.3 in /usr/local/lib/python3.10/dist-packages (from scikit-surprise) (1.23.5)\n",
            "Requirement already satisfied: scipy>=1.3.2 in /usr/local/lib/python3.10/dist-packages (from scikit-surprise) (1.11.3)\n",
            "Building wheels for collected packages: scikit-surprise\n",
            "  Building wheel for scikit-surprise (setup.py) ... \u001b[?25l\u001b[?25hdone\n",
            "  Created wheel for scikit-surprise: filename=scikit_surprise-1.1.3-cp310-cp310-linux_x86_64.whl size=3163352 sha256=e210ea86653b620c46c9d9b09374f778f97b17c3079ce0efd47bbe12f85d211d\n",
            "  Stored in directory: /root/.cache/pip/wheels/a5/ca/a8/4e28def53797fdc4363ca4af740db15a9c2f1595ebc51fb445\n",
            "Successfully built scikit-surprise\n",
            "Installing collected packages: scikit-surprise\n",
            "Successfully installed scikit-surprise-1.1.3\n"
          ]
        }
      ],
      "source": [
        "!pip install scikit-surprise"
      ]
    },
    {
      "cell_type": "code",
      "source": [
        "from surprise import Dataset, Reader, SVD, SVDpp, NMF, KNNWithZScore, BaselineOnly\n",
        "from surprise.model_selection import cross_validate\n",
        "import matplotlib.pyplot as plt\n",
        "\n",
        "data = Dataset.load_builtin('ml-100k')"
      ],
      "metadata": {
        "colab": {
          "base_uri": "https://localhost:8080/"
        },
        "id": "er66Tuj_dCnY",
        "outputId": "ac245a7f-0896-45f4-9512-e41643654cac"
      },
      "execution_count": 2,
      "outputs": [
        {
          "output_type": "stream",
          "name": "stdout",
          "text": [
            "Dataset ml-100k could not be found. Do you want to download it? [Y/n] Y\n",
            "Trying to download dataset from https://files.grouplens.org/datasets/movielens/ml-100k.zip...\n",
            "Done! Dataset ml-100k has been saved to /root/.surprise_data/ml-100k\n"
          ]
        }
      ]
    },
    {
      "cell_type": "code",
      "source": [
        "#Використайте алгоритми SVD, SVDpp, NMF  + ще два на власний вибір.\n",
        "svd = SVD()\n",
        "svdpp = SVDpp()\n",
        "nmf = NMF()\n",
        "knn_with_zscore = KNNWithZScore()\n",
        "baseline_only = BaselineOnly()"
      ],
      "metadata": {
        "id": "IrcTO4N-dJTB"
      },
      "execution_count": 3,
      "outputs": []
    },
    {
      "cell_type": "code",
      "source": [
        "#Найкращі параметри для всіх алгоритмів підберіть за допомогою крос-валідації.\n",
        "cv_svd = cross_validate(svd, data, measures=['RMSE'], cv=5, verbose=True)\n",
        "cv_svdpp = cross_validate(svdpp, data, measures=['RMSE'], cv=5, verbose=True)\n",
        "cv_nmf = cross_validate(nmf, data, measures=['RMSE'], cv=5, verbose=True)\n",
        "cv_knn_with_zscore = cross_validate(knn_with_zscore, data, measures=['RMSE'], cv=5, verbose=True)\n",
        "cv_baseline_only = cross_validate(baseline_only, data, measures=['RMSE'], cv=5, verbose=True)"
      ],
      "metadata": {
        "colab": {
          "base_uri": "https://localhost:8080/"
        },
        "id": "eaR-6povdey7",
        "outputId": "85509fb7-6460-4bdf-fcee-1d34d2bfa2d5"
      },
      "execution_count": 4,
      "outputs": [
        {
          "output_type": "stream",
          "name": "stdout",
          "text": [
            "Evaluating RMSE of algorithm SVD on 5 split(s).\n",
            "\n",
            "                  Fold 1  Fold 2  Fold 3  Fold 4  Fold 5  Mean    Std     \n",
            "RMSE (testset)    0.9316  0.9368  0.9385  0.9452  0.9347  0.9374  0.0046  \n",
            "Fit time          3.36    1.36    1.79    1.87    1.56    1.99    0.71    \n",
            "Test time         0.12    0.26    0.22    0.26    0.21    0.21    0.05    \n",
            "Evaluating RMSE of algorithm SVDpp on 5 split(s).\n",
            "\n",
            "                  Fold 1  Fold 2  Fold 3  Fold 4  Fold 5  Mean    Std     \n",
            "RMSE (testset)    0.9155  0.9239  0.9156  0.9160  0.9243  0.9190  0.0041  \n",
            "Fit time          26.75   27.06   27.03   27.21   27.66   27.14   0.30    \n",
            "Test time         4.16    4.97    4.20    4.74    4.43    4.50    0.31    \n",
            "Evaluating RMSE of algorithm NMF on 5 split(s).\n",
            "\n",
            "                  Fold 1  Fold 2  Fold 3  Fold 4  Fold 5  Mean    Std     \n",
            "RMSE (testset)    0.9619  0.9632  0.9659  0.9611  0.9639  0.9632  0.0017  \n",
            "Fit time          2.62    2.10    2.35    2.14    2.81    2.40    0.28    \n",
            "Test time         0.10    0.20    0.12    0.31    0.19    0.18    0.08    \n",
            "Computing the msd similarity matrix...\n",
            "Done computing similarity matrix.\n",
            "Computing the msd similarity matrix...\n",
            "Done computing similarity matrix.\n",
            "Computing the msd similarity matrix...\n",
            "Done computing similarity matrix.\n",
            "Computing the msd similarity matrix...\n",
            "Done computing similarity matrix.\n",
            "Computing the msd similarity matrix...\n",
            "Done computing similarity matrix.\n",
            "Evaluating RMSE of algorithm KNNWithZScore on 5 split(s).\n",
            "\n",
            "                  Fold 1  Fold 2  Fold 3  Fold 4  Fold 5  Mean    Std     \n",
            "RMSE (testset)    0.9477  0.9472  0.9551  0.9433  0.9575  0.9502  0.0053  \n",
            "Fit time          0.48    0.68    0.64    0.48    0.47    0.55    0.09    \n",
            "Test time         3.99    3.50    4.65    3.47    3.50    3.82    0.46    \n",
            "Estimating biases using als...\n",
            "Estimating biases using als...\n",
            "Estimating biases using als...\n",
            "Estimating biases using als...\n",
            "Estimating biases using als...\n",
            "Evaluating RMSE of algorithm BaselineOnly on 5 split(s).\n",
            "\n",
            "                  Fold 1  Fold 2  Fold 3  Fold 4  Fold 5  Mean    Std     \n",
            "RMSE (testset)    0.9444  0.9475  0.9394  0.9443  0.9452  0.9442  0.0026  \n",
            "Fit time          0.32    0.36    0.36    0.34    0.38    0.35    0.02    \n",
            "Test time         0.29    0.15    0.26    0.08    0.21    0.20    0.08    \n"
          ]
        }
      ]
    },
    {
      "cell_type": "code",
      "source": [
        "svd_rmse = cv_svd['test_rmse'].mean()\n",
        "svdpp_rmse = cv_svdpp['test_rmse'].mean()\n",
        "nmf_rmse = cv_nmf['test_rmse'].mean()\n",
        "knn_with_zscore_rmse = cv_knn_with_zscore['test_rmse'].mean()\n",
        "baseline_only_rmse = cv_baseline_only['test_rmse'].mean()\n",
        "\n",
        "print(\"SVD RMSE:\", svd_rmse)\n",
        "print(\"SVD++ RMSE:\", svdpp_rmse)\n",
        "print(\"NMF RMSE:\", nmf_rmse)\n",
        "print(\"KNNWithZScore RMSE:\", knn_with_zscore_rmse)\n",
        "print(\"BaselineOnly RMSE:\", baseline_only_rmse)"
      ],
      "metadata": {
        "colab": {
          "base_uri": "https://localhost:8080/"
        },
        "id": "-Hc04UFDeX1S",
        "outputId": "b7b7f119-3f15-4f84-e7f7-6e80c08bf5b6"
      },
      "execution_count": 5,
      "outputs": [
        {
          "output_type": "stream",
          "name": "stdout",
          "text": [
            "SVD RMSE: 0.9373746848570818\n",
            "SVD++ RMSE: 0.919049003941999\n",
            "NMF RMSE: 0.9631666803112007\n",
            "KNNWithZScore RMSE: 0.9501574782451309\n",
            "BaselineOnly RMSE: 0.9441544264350142\n"
          ]
        }
      ]
    },
    {
      "cell_type": "code",
      "source": [
        "#Зробіть візуалізацію.\n",
        "rmse_values = [svd_rmse, svdpp_rmse, nmf_rmse, knn_with_zscore_rmse, baseline_only_rmse]\n",
        "algos = ['SVD', 'SVD++', 'NMF', 'KNNWithZScore', 'BaselineOnly']\n",
        "\n",
        "plt.bar(algos, rmse_values, color=['blue', 'green', 'red', 'purple', 'orange', 'cyan', 'magenta'])\n",
        "plt.xlabel('Алгоиртм')\n",
        "plt.ylabel(\"RMSE\")\n",
        "plt.title('RMSE порівняння')\n",
        "plt.ylim(0.9, 1.0)\n",
        "plt.gca().set_axisbelow(True)\n",
        "plt.grid(linewidth=0.5)\n",
        "plt.show()"
      ],
      "metadata": {
        "colab": {
          "base_uri": "https://localhost:8080/",
          "height": 472
        },
        "id": "cI70c6sZejM6",
        "outputId": "fd740c0a-ecb7-4b15-af1b-23ede1fec2be"
      },
      "execution_count": 6,
      "outputs": [
        {
          "output_type": "display_data",
          "data": {
            "text/plain": [
              "<Figure size 640x480 with 1 Axes>"
            ],
            "image/png": "[encoded data removed]"
          },
          "metadata": {}
        }
      ]
    },
    {
      "cell_type": "markdown",
      "source": [
        "Висновок: розробили рекомендаційну систему за допомогою бібліотеки surprise, використали різні алгоритми та візуалізували їх роботу."
      ],
      "metadata": {
        "id": "sg_snV7re2iX"
      }
    }
  ]
}